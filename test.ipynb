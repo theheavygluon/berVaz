{
 "cells": [
  {
   "cell_type": "code",
   "execution_count": 1,
   "metadata": {},
   "outputs": [],
   "source": [
    "%matplotlib inline\n",
    "from berVaz import *\n"
   ]
  },
  {
   "cell_type": "code",
   "execution_count": 2,
   "metadata": {
    "scrolled": false
   },
   "outputs": [
    {
     "data": {
      "text/plain": [
       "(     ┌───┐      ░            ░ ┌───┐ ░ ┌─┐         \n",
       " q_0: ┤ H ├──────░───■────────░─┤ H ├─░─┤M├─────────\n",
       "      ├───┤      ░   │        ░ ├───┤ ░ └╥┘┌─┐      \n",
       " q_1: ┤ H ├──────░───┼────────░─┤ H ├─░──╫─┤M├──────\n",
       "      ├───┤      ░   │        ░ ├───┤ ░  ║ └╥┘┌─┐   \n",
       " q_2: ┤ H ├──────░───┼────────░─┤ H ├─░──╫──╫─┤M├───\n",
       "      ├───┤      ░   │        ░ ├───┤ ░  ║  ║ └╥┘┌─┐\n",
       " q_3: ┤ H ├──────░───┼────■───░─┤ H ├─░──╫──╫──╫─┤M├\n",
       "      ├───┤┌───┐ ░ ┌─┴─┐┌─┴─┐ ░ └───┘ ░  ║  ║  ║ └╥┘\n",
       " q_4: ┤ X ├┤ H ├─░─┤ X ├┤ X ├─░───────░──╫──╫──╫──╫─\n",
       "      └───┘└───┘ ░ └───┘└───┘ ░       ░  ║  ║  ║  ║ \n",
       " c: 4/═══════════════════════════════════╩══╩══╩══╩═\n",
       "                                         0  1  2  3 ,\n",
       " {'1001': 1})"
      ]
     },
     "execution_count": 2,
     "metadata": {},
     "output_type": "execute_result"
    }
   ],
   "source": [
    "#To simulate it on the qasm_simulator, use sim(n), Example:\n",
    "\n",
    "test = sim('1001')\n",
    "test"
   ]
  },
  {
   "cell_type": "code",
   "execution_count": 3,
   "metadata": {},
   "outputs": [
    {
     "data": {
      "text/plain": [
       "{'1001': 1}"
      ]
     },
     "execution_count": 3,
     "metadata": {},
     "output_type": "execute_result"
    }
   ],
   "source": [
    "#or for output alone,\n",
    "\n",
    "test[1]"
   ]
  },
  {
   "cell_type": "code",
   "execution_count": 4,
   "metadata": {},
   "outputs": [
    {
     "data": {
      "image/png": "[encoded data removed]",
      "text/plain": [
       "<Figure size 504x360 with 1 Axes>"
      ]
     },
     "execution_count": 4,
     "metadata": {},
     "output_type": "execute_result"
    }
   ],
   "source": [
    "plot_histogram(test[1])"
   ]
  },
  {
   "cell_type": "code",
   "execution_count": 10,
   "metadata": {},
   "outputs": [
    {
     "name": "stderr",
     "output_type": "stream",
     "text": [
      "ibmqfactory.load_account:WARNING:2020-09-11 05:19:46,302: Credentials are already in use. The existing account in the session will be replaced.\n"
     ]
    },
    {
     "name": "stdout",
     "output_type": "stream",
     "text": [
      "Job Status: job has successfully run\n"
     ]
    }
   ],
   "source": [
    "#Now if you want to run this on a  real quantum computer, you can use the run(n, device) function. If you dont specify\n",
    "#the device, it will runn on ibmq_16_melbourne by default\n",
    "#Note that you have to have the IBM token and everything set up before this because this module can't affect any of \n",
    "#that\n",
    "test2 = run('1011')"
   ]
  },
  {
   "cell_type": "code",
   "execution_count": 11,
   "metadata": {},
   "outputs": [
    {
     "data": {
      "text/plain": [
       "(     ┌───┐      ░                 ░ ┌───┐ ░ ┌─┐         \n",
       " q_0: ┤ H ├──────░───■─────────────░─┤ H ├─░─┤M├─────────\n",
       "      ├───┤      ░   │             ░ ├───┤ ░ └╥┘┌─┐      \n",
       " q_1: ┤ H ├──────░───┼─────────────░─┤ H ├─░──╫─┤M├──────\n",
       "      ├───┤      ░   │             ░ ├───┤ ░  ║ └╥┘┌─┐   \n",
       " q_2: ┤ H ├──────░───┼────■────────░─┤ H ├─░──╫──╫─┤M├───\n",
       "      ├───┤      ░   │    │        ░ ├───┤ ░  ║  ║ └╥┘┌─┐\n",
       " q_3: ┤ H ├──────░───┼────┼────■───░─┤ H ├─░──╫──╫──╫─┤M├\n",
       "      ├───┤┌───┐ ░ ┌─┴─┐┌─┴─┐┌─┴─┐ ░ └───┘ ░  ║  ║  ║ └╥┘\n",
       " q_4: ┤ X ├┤ H ├─░─┤ X ├┤ X ├┤ X ├─░───────░──╫──╫──╫──╫─\n",
       "      └───┘└───┘ ░ └───┘└───┘└───┘ ░       ░  ║  ║  ║  ║ \n",
       " c: 4/════════════════════════════════════════╩══╩══╩══╩═\n",
       "                                              0  1  2  3 ,\n",
       " <qiskit.result.result.Result at 0x129721730>,\n",
       " <qiskit.circuit.quantumcircuit.QuantumCircuit at 0x12961f550>)"
      ]
     },
     "execution_count": 11,
     "metadata": {},
     "output_type": "execute_result"
    }
   ],
   "source": [
    "#This prints out the circuit in text and the result\n",
    "test2"
   ]
  },
  {
   "cell_type": "code",
   "execution_count": 13,
   "metadata": {},
   "outputs": [
    {
     "data": {
      "image/png": "[encoded data removed]",
      "text/plain": [
       "<Figure size 504x360 with 1 Axes>"
      ]
     },
     "execution_count": 13,
     "metadata": {},
     "output_type": "execute_result"
    }
   ],
   "source": [
    "#This is what you use to plot the result... It is very underwhelming. Loads of error-correction research required lol\n",
    "plot_histogram(test2[1].get_counts(test2[2]))"
   ]
  },
  {
   "cell_type": "code",
   "execution_count": null,
   "metadata": {},
   "outputs": [],
   "source": []
  }
 ],
 "metadata": {
  "kernelspec": {
   "display_name": "Python 3",
   "language": "python",
   "name": "python3"
  },
  "language_info": {
   "codemirror_mode": {
    "name": "ipython",
    "version": 3
   },
   "file_extension": ".py",
   "mimetype": "text/x-python",
   "name": "python",
   "nbconvert_exporter": "python",
   "pygments_lexer": "ipython3",
   "version": "3.8.3"
  }
 },
 "nbformat": 4,
 "nbformat_minor": 4
}
